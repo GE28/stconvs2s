{
 "cells": [
  {
   "cell_type": "code",
   "execution_count": 1,
   "id": "ebefac25",
   "metadata": {},
   "outputs": [
    {
     "data": {
      "text/plain": [
       "ToyModel(\n",
       "  (lin1): Linear(in_features=3, out_features=3, bias=True)\n",
       "  (relu): ReLU()\n",
       "  (lin2): Linear(in_features=3, out_features=2, bias=True)\n",
       ")"
      ]
     },
     "execution_count": 1,
     "metadata": {},
     "output_type": "execute_result"
    }
   ],
   "source": [
    "import numpy as np\n",
    "\n",
    "import torch\n",
    "import torch.nn as nn\n",
    "\n",
    "from captum.attr import IntegratedGradients\n",
    "\n",
    "torch.manual_seed(123)\n",
    "np.random.seed(123)\n",
    "\n",
    "\n",
    "class ToyModel(nn.Module):\n",
    "    def __init__(self):\n",
    "        super().__init__()\n",
    "        self.lin1 = nn.Linear(3, 3)\n",
    "        self.relu = nn.ReLU()\n",
    "        self.lin2 = nn.Linear(3, 2)\n",
    "\n",
    "        # initialize weights and biases\n",
    "        self.lin1.weight = nn.Parameter(torch.arange(-4.0, 5.0).view(3, 3))\n",
    "        self.lin1.bias = nn.Parameter(torch.zeros(1, 3))\n",
    "        self.lin2.weight = nn.Parameter(torch.arange(-3.0, 3.0).view(2, 3))\n",
    "        self.lin2.bias = nn.Parameter(torch.ones(1, 2))\n",
    "\n",
    "    def forward(self, input):\n",
    "        return self.lin2(self.relu(self.lin1(input)))\n",
    "\n",
    "\n",
    "model = ToyModel()\n",
    "model.eval()"
   ]
  },
  {
   "cell_type": "code",
   "execution_count": 2,
   "id": "18d40fca",
   "metadata": {},
   "outputs": [],
   "source": [
    "input = torch.rand(2, 3)\n",
    "baseline = torch.zeros(2, 3)"
   ]
  },
  {
   "cell_type": "code",
   "execution_count": 3,
   "id": "56afdedc",
   "metadata": {},
   "outputs": [
    {
     "name": "stdout",
     "output_type": "stream",
     "text": [
      "IG Attributions: tensor([[-1.7071, -1.7795, -2.5469],\n",
      "        [-1.9653, -0.8235, -2.6335]])\n",
      "Convergence Delta: tensor([4.7684e-07, 0.0000e+00])\n"
     ]
    }
   ],
   "source": [
    "ig = IntegratedGradients(model)\n",
    "attributions, delta = ig.attribute(input, baseline, target=0, return_convergence_delta=True)\n",
    "print(\"IG Attributions:\", attributions)\n",
    "print(\"Convergence Delta:\", delta)"
   ]
  },
  {
   "cell_type": "markdown",
   "id": "69a01f1a",
   "metadata": {},
   "source": [
    "Quickstart from Github page:"
   ]
  },
  {
   "cell_type": "code",
   "execution_count": 4,
   "id": "25bbcaec",
   "metadata": {},
   "outputs": [],
   "source": [
    "import numpy as np\n",
    "\n",
    "import torch\n",
    "import torch.nn as nn\n",
    "\n",
    "from captum.attr import (\n",
    "    GradientShap,\n",
    "    DeepLift,\n",
    "    DeepLiftShap,\n",
    "    IntegratedGradients,\n",
    "    LayerConductance,\n",
    "    NeuronConductance,\n",
    "    NoiseTunnel,\n",
    ")\n",
    "\n",
    "\n",
    "class ToyModel(nn.Module):\n",
    "    def __init__(self):\n",
    "        super().__init__()\n",
    "        self.lin1 = nn.Linear(3, 3)\n",
    "        self.relu = nn.ReLU()\n",
    "        self.lin2 = nn.Linear(3, 2)\n",
    "\n",
    "        # initialize weights and biases\n",
    "        self.lin1.weight = nn.Parameter(torch.arange(-4.0, 5.0).view(3, 3))\n",
    "        self.lin1.bias = nn.Parameter(torch.zeros(1, 3))\n",
    "        self.lin2.weight = nn.Parameter(torch.arange(-3.0, 3.0).view(2, 3))\n",
    "        self.lin2.bias = nn.Parameter(torch.ones(1, 2))\n",
    "\n",
    "    def forward(self, input):\n",
    "        return self.lin2(self.relu(self.lin1(input)))"
   ]
  },
  {
   "cell_type": "code",
   "execution_count": 5,
   "id": "ff325591",
   "metadata": {},
   "outputs": [
    {
     "data": {
      "text/plain": [
       "ToyModel(\n",
       "  (lin1): Linear(in_features=3, out_features=3, bias=True)\n",
       "  (relu): ReLU()\n",
       "  (lin2): Linear(in_features=3, out_features=2, bias=True)\n",
       ")"
      ]
     },
     "execution_count": 5,
     "metadata": {},
     "output_type": "execute_result"
    }
   ],
   "source": [
    "model = ToyModel()\n",
    "model.eval()"
   ]
  },
  {
   "cell_type": "code",
   "execution_count": 6,
   "id": "d55af34d",
   "metadata": {},
   "outputs": [],
   "source": [
    "torch.manual_seed(123)\n",
    "np.random.seed(123)"
   ]
  },
  {
   "cell_type": "code",
   "execution_count": 7,
   "id": "57d95cb1",
   "metadata": {},
   "outputs": [],
   "source": [
    "input = torch.rand(2, 3)\n",
    "baseline = torch.zeros(2, 3)"
   ]
  },
  {
   "cell_type": "code",
   "execution_count": 8,
   "id": "dd586a87",
   "metadata": {},
   "outputs": [
    {
     "name": "stdout",
     "output_type": "stream",
     "text": [
      "IG Attributions: tensor([[-0.5922, -1.5497, -1.0067],\n",
      "        [ 0.0000, -0.2219, -5.1991]])\n",
      "Convergence Delta: tensor([2.3842e-07, 0.0000e+00])\n"
     ]
    }
   ],
   "source": [
    "ig = IntegratedGradients(model)\n",
    "attributions, delta = ig.attribute(input, baseline, target=0, return_convergence_delta=True)\n",
    "print(\"IG Attributions:\", attributions)\n",
    "print(\"Convergence Delta:\", delta)"
   ]
  },
  {
   "cell_type": "code",
   "execution_count": 9,
   "id": "c87ee053",
   "metadata": {},
   "outputs": [
    {
     "name": "stdout",
     "output_type": "stream",
     "text": [
      "GradientShap Attributions: tensor([[-0.1542, -1.6229, -1.5835],\n",
      "        [-0.3916, -0.2836, -4.6851]])\n",
      "Convergence Delta: tensor([ 0.0000, -0.0005, -0.0029, -0.0084, -0.0087, -0.0405,  0.0000, -0.0084])\n"
     ]
    }
   ],
   "source": [
    "gs = GradientShap(model)\n",
    "\n",
    "# We define a distribution of baselines and draw `n_samples` from that\n",
    "# distribution in order to estimate the expectations of gradients across all baselines\n",
    "baseline_dist = torch.randn(10, 3) * 0.001\n",
    "attributions, delta = gs.attribute(\n",
    "    input, stdevs=0.09, n_samples=4, baselines=baseline_dist, target=0, return_convergence_delta=True\n",
    ")\n",
    "print(\"GradientShap Attributions:\", attributions)\n",
    "print(\"Convergence Delta:\", delta)"
   ]
  },
  {
   "cell_type": "code",
   "execution_count": 10,
   "id": "1915c9bd",
   "metadata": {},
   "outputs": [
    {
     "name": "stdout",
     "output_type": "stream",
     "text": [
      "DeepLift Attributions: tensor([[-0.5922, -1.5497, -1.0067],\n",
      "        [ 0.0000, -0.2219, -5.1991]], grad_fn=<MulBackward0>)\n",
      "Convergence Delta: tensor([0., 0.])\n"
     ]
    },
    {
     "name": "stderr",
     "output_type": "stream",
     "text": [
      "/home/ge28/Desktop/Python/trab_final/APRENDIZADO_T2/.venv/lib/python3.10/site-packages/captum/attr/_core/deep_lift.py:294: UserWarning: Input Tensor 0 did not already require gradients, required_grads has been set automatically.\n",
      "  gradient_mask = apply_gradient_requirements(inputs_tuple)\n",
      "/home/ge28/Desktop/Python/trab_final/APRENDIZADO_T2/.venv/lib/python3.10/site-packages/captum/log/dummy_log.py:39: UserWarning: Setting forward, backward hooks and attributes on non-linear\n",
      "               activations. The hooks and attributes will be removed\n",
      "            after the attribution is finished\n",
      "  return func(*args, **kwargs)\n"
     ]
    }
   ],
   "source": [
    "dl = DeepLift(model)\n",
    "attributions, delta = dl.attribute(input, baseline, target=0, return_convergence_delta=True)\n",
    "print(\"DeepLift Attributions:\", attributions)\n",
    "print(\"Convergence Delta:\", delta)"
   ]
  },
  {
   "cell_type": "code",
   "execution_count": 11,
   "id": "f5b00bd7",
   "metadata": {},
   "outputs": [
    {
     "name": "stdout",
     "output_type": "stream",
     "text": [
      "DeepLiftSHAP Attributions: tensor([[-5.8452e-01, -1.5447e+00, -1.0094e+00],\n",
      "        [ 6.4696e-04, -2.2256e-01, -5.1892e+00]], grad_fn=<MeanBackward1>)\n",
      "Convergence Delta: tensor([ 0.0000e+00, -2.3842e-07,  0.0000e+00,  2.3842e-07,  0.0000e+00,\n",
      "         0.0000e+00,  0.0000e+00,  2.3842e-07,  2.3842e-07,  4.7684e-07,\n",
      "         4.7684e-07,  0.0000e+00, -4.7684e-07,  0.0000e+00, -4.7684e-07,\n",
      "        -4.7684e-07,  0.0000e+00, -4.7684e-07,  4.7684e-07,  0.0000e+00])\n"
     ]
    },
    {
     "name": "stderr",
     "output_type": "stream",
     "text": [
      "/home/ge28/Desktop/Python/trab_final/APRENDIZADO_T2/.venv/lib/python3.10/site-packages/captum/attr/_core/deep_lift.py:810: UserWarning: Setting forward, backward hooks and attributes on non-linear\n",
      "               activations. The hooks and attributes will be removed\n",
      "            after the attribution is finished\n",
      "  attributions = super().attribute.__wrapped__(  # type: ignore\n"
     ]
    }
   ],
   "source": [
    "dl = DeepLiftShap(model)\n",
    "attributions, delta = dl.attribute(input, baseline_dist, target=0, return_convergence_delta=True)\n",
    "print(\"DeepLiftSHAP Attributions:\", attributions)\n",
    "print(\"Convergence Delta:\", delta)"
   ]
  },
  {
   "cell_type": "code",
   "execution_count": 12,
   "id": "e1501f15",
   "metadata": {},
   "outputs": [
    {
     "name": "stdout",
     "output_type": "stream",
     "text": [
      "IG + SmoothGrad Attributions: tensor([[-0.4574, -1.5493, -1.0893],\n",
      "        [ 0.0000, -0.2647, -5.1619]])\n",
      "Convergence Delta: tensor([ 2.3842e-07,  2.3842e-07, -2.3842e-07,  0.0000e+00,  0.0000e+00,\n",
      "        -4.7684e-07,  4.7684e-07,  0.0000e+00])\n"
     ]
    }
   ],
   "source": [
    "ig = IntegratedGradients(model)\n",
    "nt = NoiseTunnel(ig)\n",
    "attributions, delta = nt.attribute(\n",
    "    input, nt_type=\"smoothgrad\", stdevs=0.02, nt_samples=4, baselines=baseline, target=0, return_convergence_delta=True\n",
    ")\n",
    "print(\"IG + SmoothGrad Attributions:\", attributions)\n",
    "print(\"Convergence Delta:\", delta)"
   ]
  },
  {
   "cell_type": "code",
   "execution_count": 13,
   "id": "e1070142",
   "metadata": {},
   "outputs": [
    {
     "name": "stdout",
     "output_type": "stream",
     "text": [
      "Neuron Attributions: tensor([[ 0.0000,  0.0000,  0.0000],\n",
      "        [ 1.3358,  0.0000, -1.6811]])\n"
     ]
    }
   ],
   "source": [
    "nc = NeuronConductance(model, model.lin1)\n",
    "attributions = nc.attribute(input, neuron_selector=1, target=0)\n",
    "print(\"Neuron Attributions:\", attributions)"
   ]
  },
  {
   "cell_type": "code",
   "execution_count": 14,
   "id": "0e651077",
   "metadata": {},
   "outputs": [
    {
     "name": "stdout",
     "output_type": "stream",
     "text": [
      "Layer Attributions: tensor([[ 0.0000,  0.0000, -3.1452],\n",
      "        [ 0.0000, -0.3555, -5.0596]], grad_fn=<SumBackward1>)\n",
      "Convergence Delta: tensor([0.0034, 0.0059])\n"
     ]
    }
   ],
   "source": [
    "lc = LayerConductance(model, model.lin1)\n",
    "attributions, delta = lc.attribute(input, baselines=baseline, target=0, return_convergence_delta=True)\n",
    "print(\"Layer Attributions:\", attributions)\n",
    "print(\"Convergence Delta:\", delta)"
   ]
  },
  {
   "cell_type": "markdown",
   "id": "a02d8439",
   "metadata": {},
   "source": [
    "I'm not sure how to interpret these values yet, so I read and executed the tutorial https://captum.ai/tutorials/Titanic_Basic_Interpret below"
   ]
  },
  {
   "cell_type": "code",
   "execution_count": 15,
   "id": "6f6434b9",
   "metadata": {},
   "outputs": [],
   "source": [
    "# Initial imports\n",
    "import numpy as np\n",
    "\n",
    "import torch\n",
    "\n",
    "from captum.attr import IntegratedGradients\n",
    "from captum.attr import LayerConductance\n",
    "from captum.attr import NeuronConductance\n",
    "\n",
    "import matplotlib\n",
    "import matplotlib.pyplot as plt\n",
    "\n",
    "%matplotlib inline\n",
    "\n",
    "from scipy import stats\n",
    "import pandas as pd"
   ]
  },
  {
   "cell_type": "code",
   "execution_count": 16,
   "id": "8a741597",
   "metadata": {},
   "outputs": [
    {
     "data": {
      "application/vnd.microsoft.datawrangler.viewer.v0+json": {
       "columns": [
        {
         "name": "index",
         "rawType": "int64",
         "type": "integer"
        },
        {
         "name": "pclass",
         "rawType": "int64",
         "type": "integer"
        },
        {
         "name": "survived",
         "rawType": "int64",
         "type": "integer"
        },
        {
         "name": "name",
         "rawType": "object",
         "type": "string"
        },
        {
         "name": "sex",
         "rawType": "object",
         "type": "string"
        },
        {
         "name": "age",
         "rawType": "float64",
         "type": "float"
        },
        {
         "name": "sibsp",
         "rawType": "int64",
         "type": "integer"
        },
        {
         "name": "parch",
         "rawType": "int64",
         "type": "integer"
        },
        {
         "name": "ticket",
         "rawType": "object",
         "type": "string"
        },
        {
         "name": "fare",
         "rawType": "float64",
         "type": "float"
        },
        {
         "name": "cabin",
         "rawType": "object",
         "type": "unknown"
        },
        {
         "name": "embarked",
         "rawType": "object",
         "type": "unknown"
        },
        {
         "name": "boat",
         "rawType": "object",
         "type": "unknown"
        },
        {
         "name": "body",
         "rawType": "float64",
         "type": "float"
        },
        {
         "name": "home.dest",
         "rawType": "object",
         "type": "unknown"
        }
       ],
       "ref": "101244d1-ae02-49ec-b44b-4745802523db",
       "rows": [
        [
         "0",
         "1",
         "1",
         "Allen, Miss. Elisabeth Walton",
         "female",
         "29.0",
         "0",
         "0",
         "24160",
         "211.3375",
         "B5",
         "S",
         "2",
         null,
         "St Louis, MO"
        ],
        [
         "1",
         "1",
         "1",
         "Allison, Master. Hudson Trevor",
         "male",
         "0.92",
         "1",
         "2",
         "113781",
         "151.55",
         "C22 C26",
         "S",
         "11",
         null,
         "Montreal, PQ / Chesterville, ON"
        ],
        [
         "2",
         "1",
         "0",
         "Allison, Miss. Helen Loraine",
         "female",
         "2.0",
         "1",
         "2",
         "113781",
         "151.55",
         "C22 C26",
         "S",
         null,
         null,
         "Montreal, PQ / Chesterville, ON"
        ],
        [
         "3",
         "1",
         "0",
         "Allison, Mr. Hudson Joshua Creighton",
         "male",
         "30.0",
         "1",
         "2",
         "113781",
         "151.55",
         "C22 C26",
         "S",
         null,
         "135.0",
         "Montreal, PQ / Chesterville, ON"
        ],
        [
         "4",
         "1",
         "0",
         "Allison, Mrs. Hudson J C (Bessie Waldo Daniels)",
         "female",
         "25.0",
         "1",
         "2",
         "113781",
         "151.55",
         "C22 C26",
         "S",
         null,
         null,
         "Montreal, PQ / Chesterville, ON"
        ],
        [
         "5",
         "1",
         "1",
         "Anderson, Mr. Harry",
         "male",
         "48.0",
         "0",
         "0",
         "19952",
         "26.55",
         "E12",
         "S",
         "3",
         null,
         "New York, NY"
        ],
        [
         "6",
         "1",
         "1",
         "Andrews, Miss. Kornelia Theodosia",
         "female",
         "63.0",
         "1",
         "0",
         "13502",
         "77.9583",
         "D7",
         "S",
         "10",
         null,
         "Hudson, NY"
        ],
        [
         "7",
         "1",
         "0",
         "Andrews, Mr. Thomas Jr",
         "male",
         "39.0",
         "0",
         "0",
         "112050",
         "0.0",
         "A36",
         "S",
         null,
         null,
         "Belfast, NI"
        ],
        [
         "8",
         "1",
         "1",
         "Appleton, Mrs. Edward Dale (Charlotte Lamson)",
         "female",
         "53.0",
         "2",
         "0",
         "11769",
         "51.4792",
         "C101",
         "S",
         "D",
         null,
         "Bayside, Queens, NY"
        ],
        [
         "9",
         "1",
         "0",
         "Artagaveytia, Mr. Ramon",
         "male",
         "71.0",
         "0",
         "0",
         "PC 17609",
         "49.5042",
         null,
         "C",
         null,
         "22.0",
         "Montevideo, Uruguay"
        ],
        [
         "10",
         "1",
         "0",
         "Astor, Col. John Jacob",
         "male",
         "47.0",
         "1",
         "0",
         "PC 17757",
         "227.525",
         "C62 C64",
         "C",
         null,
         "124.0",
         "New York, NY"
        ],
        [
         "11",
         "1",
         "1",
         "Astor, Mrs. John Jacob (Madeleine Talmadge Force)",
         "female",
         "18.0",
         "1",
         "0",
         "PC 17757",
         "227.525",
         "C62 C64",
         "C",
         "4",
         null,
         "New York, NY"
        ],
        [
         "12",
         "1",
         "1",
         "Aubart, Mme. Leontine Pauline",
         "female",
         "24.0",
         "0",
         "0",
         "PC 17477",
         "69.3",
         "B35",
         "C",
         "9",
         null,
         "Paris, France"
        ],
        [
         "13",
         "1",
         "1",
         "Barber, Miss. Ellen \"Nellie\"",
         "female",
         "26.0",
         "0",
         "0",
         "19877",
         "78.85",
         null,
         "S",
         "6",
         null,
         null
        ],
        [
         "14",
         "1",
         "1",
         "Barkworth, Mr. Algernon Henry Wilson",
         "male",
         "80.0",
         "0",
         "0",
         "27042",
         "30.0",
         "A23",
         "S",
         "B",
         null,
         "Hessle, Yorks"
        ],
        [
         "15",
         "1",
         "0",
         "Baumann, Mr. John D",
         "male",
         null,
         "0",
         "0",
         "PC 17318",
         "25.925",
         null,
         "S",
         null,
         null,
         "New York, NY"
        ],
        [
         "16",
         "1",
         "0",
         "Baxter, Mr. Quigg Edmond",
         "male",
         "24.0",
         "0",
         "1",
         "PC 17558",
         "247.5208",
         "B58 B60",
         "C",
         null,
         null,
         "Montreal, PQ"
        ],
        [
         "17",
         "1",
         "1",
         "Baxter, Mrs. James (Helene DeLaudeniere Chaput)",
         "female",
         "50.0",
         "0",
         "1",
         "PC 17558",
         "247.5208",
         "B58 B60",
         "C",
         "6",
         null,
         "Montreal, PQ"
        ],
        [
         "18",
         "1",
         "1",
         "Bazzani, Miss. Albina",
         "female",
         "32.0",
         "0",
         "0",
         "11813",
         "76.2917",
         "D15",
         "C",
         "8",
         null,
         null
        ],
        [
         "19",
         "1",
         "0",
         "Beattie, Mr. Thomson",
         "male",
         "36.0",
         "0",
         "0",
         "13050",
         "75.2417",
         "C6",
         "C",
         "A",
         null,
         "Winnipeg, MN"
        ],
        [
         "20",
         "1",
         "1",
         "Beckwith, Mr. Richard Leonard",
         "male",
         "37.0",
         "1",
         "1",
         "11751",
         "52.5542",
         "D35",
         "S",
         "5",
         null,
         "New York, NY"
        ],
        [
         "21",
         "1",
         "1",
         "Beckwith, Mrs. Richard Leonard (Sallie Monypeny)",
         "female",
         "47.0",
         "1",
         "1",
         "11751",
         "52.5542",
         "D35",
         "S",
         "5",
         null,
         "New York, NY"
        ],
        [
         "22",
         "1",
         "1",
         "Behr, Mr. Karl Howell",
         "male",
         "26.0",
         "0",
         "0",
         "111369",
         "30.0",
         "C148",
         "C",
         "5",
         null,
         "New York, NY"
        ],
        [
         "23",
         "1",
         "1",
         "Bidois, Miss. Rosalie",
         "female",
         "42.0",
         "0",
         "0",
         "PC 17757",
         "227.525",
         null,
         "C",
         "4",
         null,
         null
        ],
        [
         "24",
         "1",
         "1",
         "Bird, Miss. Ellen",
         "female",
         "29.0",
         "0",
         "0",
         "PC 17483",
         "221.7792",
         "C97",
         "S",
         "8",
         null,
         null
        ],
        [
         "25",
         "1",
         "0",
         "Birnbaum, Mr. Jakob",
         "male",
         "25.0",
         "0",
         "0",
         "13905",
         "26.0",
         null,
         "C",
         null,
         "148.0",
         "San Francisco, CA"
        ],
        [
         "26",
         "1",
         "1",
         "Bishop, Mr. Dickinson H",
         "male",
         "25.0",
         "1",
         "0",
         "11967",
         "91.0792",
         "B49",
         "C",
         "7",
         null,
         "Dowagiac, MI"
        ],
        [
         "27",
         "1",
         "1",
         "Bishop, Mrs. Dickinson H (Helen Walton)",
         "female",
         "19.0",
         "1",
         "0",
         "11967",
         "91.0792",
         "B49",
         "C",
         "7",
         null,
         "Dowagiac, MI"
        ],
        [
         "28",
         "1",
         "1",
         "Bissette, Miss. Amelia",
         "female",
         "35.0",
         "0",
         "0",
         "PC 17760",
         "135.6333",
         "C99",
         "S",
         "8",
         null,
         null
        ],
        [
         "29",
         "1",
         "1",
         "Bjornstrom-Steffansson, Mr. Mauritz Hakan",
         "male",
         "28.0",
         "0",
         "0",
         "110564",
         "26.55",
         "C52",
         "S",
         "D",
         null,
         "Stockholm, Sweden / Washington, DC"
        ],
        [
         "30",
         "1",
         "0",
         "Blackwell, Mr. Stephen Weart",
         "male",
         "45.0",
         "0",
         "0",
         "113784",
         "35.5",
         "T",
         "S",
         null,
         null,
         "Trenton, NJ"
        ],
        [
         "31",
         "1",
         "1",
         "Blank, Mr. Henry",
         "male",
         "40.0",
         "0",
         "0",
         "112277",
         "31.0",
         "A31",
         "C",
         "7",
         null,
         "Glen Ridge, NJ"
        ],
        [
         "32",
         "1",
         "1",
         "Bonnell, Miss. Caroline",
         "female",
         "30.0",
         "0",
         "0",
         "36928",
         "164.8667",
         "C7",
         "S",
         "8",
         null,
         "Youngstown, OH"
        ],
        [
         "33",
         "1",
         "1",
         "Bonnell, Miss. Elizabeth",
         "female",
         "58.0",
         "0",
         "0",
         "113783",
         "26.55",
         "C103",
         "S",
         "8",
         null,
         "Birkdale, England Cleveland, Ohio"
        ],
        [
         "34",
         "1",
         "0",
         "Borebank, Mr. John James",
         "male",
         "42.0",
         "0",
         "0",
         "110489",
         "26.55",
         "D22",
         "S",
         null,
         null,
         "London / Winnipeg, MB"
        ],
        [
         "35",
         "1",
         "1",
         "Bowen, Miss. Grace Scott",
         "female",
         "45.0",
         "0",
         "0",
         "PC 17608",
         "262.375",
         null,
         "C",
         "4",
         null,
         "Cooperstown, NY"
        ],
        [
         "36",
         "1",
         "1",
         "Bowerman, Miss. Elsie Edith",
         "female",
         "22.0",
         "0",
         "1",
         "113505",
         "55.0",
         "E33",
         "S",
         "6",
         null,
         "St Leonards-on-Sea, England Ohio"
        ],
        [
         "37",
         "1",
         "1",
         "Bradley, Mr. George (\"George Arthur Brayton\")",
         "male",
         null,
         "0",
         "0",
         "111427",
         "26.55",
         null,
         "S",
         "9",
         null,
         "Los Angeles, CA"
        ],
        [
         "38",
         "1",
         "0",
         "Brady, Mr. John Bertram",
         "male",
         "41.0",
         "0",
         "0",
         "113054",
         "30.5",
         "A21",
         "S",
         null,
         null,
         "Pomeroy, WA"
        ],
        [
         "39",
         "1",
         "0",
         "Brandeis, Mr. Emil",
         "male",
         "48.0",
         "0",
         "0",
         "PC 17591",
         "50.4958",
         "B10",
         "C",
         null,
         "208.0",
         "Omaha, NE"
        ],
        [
         "40",
         "1",
         "0",
         "Brewe, Dr. Arthur Jackson",
         "male",
         null,
         "0",
         "0",
         "112379",
         "39.6",
         null,
         "C",
         null,
         null,
         "Philadelphia, PA"
        ],
        [
         "41",
         "1",
         "1",
         "Brown, Mrs. James Joseph (Margaret Tobin)",
         "female",
         "44.0",
         "0",
         "0",
         "PC 17610",
         "27.7208",
         "B4",
         "C",
         "6",
         null,
         "Denver, CO"
        ],
        [
         "42",
         "1",
         "1",
         "Brown, Mrs. John Murray (Caroline Lane Lamson)",
         "female",
         "59.0",
         "2",
         "0",
         "11769",
         "51.4792",
         "C101",
         "S",
         "D",
         null,
         "Belmont, MA"
        ],
        [
         "43",
         "1",
         "1",
         "Bucknell, Mrs. William Robert (Emma Eliza Ward)",
         "female",
         "60.0",
         "0",
         "0",
         "11813",
         "76.2917",
         "D15",
         "C",
         "8",
         null,
         "Philadelphia, PA"
        ],
        [
         "44",
         "1",
         "1",
         "Burns, Miss. Elizabeth Margaret",
         "female",
         "41.0",
         "0",
         "0",
         "16966",
         "134.5",
         "E40",
         "C",
         "3",
         null,
         null
        ],
        [
         "45",
         "1",
         "0",
         "Butt, Major. Archibald Willingham",
         "male",
         "45.0",
         "0",
         "0",
         "113050",
         "26.55",
         "B38",
         "S",
         null,
         null,
         "Washington, DC"
        ],
        [
         "46",
         "1",
         "0",
         "Cairns, Mr. Alexander",
         "male",
         null,
         "0",
         "0",
         "113798",
         "31.0",
         null,
         "S",
         null,
         null,
         null
        ],
        [
         "47",
         "1",
         "1",
         "Calderhead, Mr. Edward Pennington",
         "male",
         "42.0",
         "0",
         "0",
         "PC 17476",
         "26.2875",
         "E24",
         "S",
         "5",
         null,
         "New York, NY"
        ],
        [
         "48",
         "1",
         "1",
         "Candee, Mrs. Edward (Helen Churchill Hungerford)",
         "female",
         "53.0",
         "0",
         "0",
         "PC 17606",
         "27.4458",
         null,
         "C",
         "6",
         null,
         "Washington, DC"
        ],
        [
         "49",
         "1",
         "1",
         "Cardeza, Mr. Thomas Drake Martinez",
         "male",
         "36.0",
         "0",
         "1",
         "PC 17755",
         "512.3292",
         "B51 B53 B55",
         "C",
         "3",
         null,
         "Austria-Hungary / Germantown, Philadelphia, PA"
        ]
       ],
       "shape": {
        "columns": 14,
        "rows": 1309
       }
      },
      "text/html": [
       "<div>\n",
       "<style scoped>\n",
       "    .dataframe tbody tr th:only-of-type {\n",
       "        vertical-align: middle;\n",
       "    }\n",
       "\n",
       "    .dataframe tbody tr th {\n",
       "        vertical-align: top;\n",
       "    }\n",
       "\n",
       "    .dataframe thead th {\n",
       "        text-align: right;\n",
       "    }\n",
       "</style>\n",
       "<table border=\"1\" class=\"dataframe\">\n",
       "  <thead>\n",
       "    <tr style=\"text-align: right;\">\n",
       "      <th></th>\n",
       "      <th>pclass</th>\n",
       "      <th>survived</th>\n",
       "      <th>name</th>\n",
       "      <th>sex</th>\n",
       "      <th>age</th>\n",
       "      <th>sibsp</th>\n",
       "      <th>parch</th>\n",
       "      <th>ticket</th>\n",
       "      <th>fare</th>\n",
       "      <th>cabin</th>\n",
       "      <th>embarked</th>\n",
       "      <th>boat</th>\n",
       "      <th>body</th>\n",
       "      <th>home.dest</th>\n",
       "    </tr>\n",
       "  </thead>\n",
       "  <tbody>\n",
       "    <tr>\n",
       "      <th>0</th>\n",
       "      <td>1</td>\n",
       "      <td>1</td>\n",
       "      <td>Allen, Miss. Elisabeth Walton</td>\n",
       "      <td>female</td>\n",
       "      <td>29.00</td>\n",
       "      <td>0</td>\n",
       "      <td>0</td>\n",
       "      <td>24160</td>\n",
       "      <td>211.3375</td>\n",
       "      <td>B5</td>\n",
       "      <td>S</td>\n",
       "      <td>2</td>\n",
       "      <td>NaN</td>\n",
       "      <td>St Louis, MO</td>\n",
       "    </tr>\n",
       "    <tr>\n",
       "      <th>1</th>\n",
       "      <td>1</td>\n",
       "      <td>1</td>\n",
       "      <td>Allison, Master. Hudson Trevor</td>\n",
       "      <td>male</td>\n",
       "      <td>0.92</td>\n",
       "      <td>1</td>\n",
       "      <td>2</td>\n",
       "      <td>113781</td>\n",
       "      <td>151.5500</td>\n",
       "      <td>C22 C26</td>\n",
       "      <td>S</td>\n",
       "      <td>11</td>\n",
       "      <td>NaN</td>\n",
       "      <td>Montreal, PQ / Chesterville, ON</td>\n",
       "    </tr>\n",
       "    <tr>\n",
       "      <th>2</th>\n",
       "      <td>1</td>\n",
       "      <td>0</td>\n",
       "      <td>Allison, Miss. Helen Loraine</td>\n",
       "      <td>female</td>\n",
       "      <td>2.00</td>\n",
       "      <td>1</td>\n",
       "      <td>2</td>\n",
       "      <td>113781</td>\n",
       "      <td>151.5500</td>\n",
       "      <td>C22 C26</td>\n",
       "      <td>S</td>\n",
       "      <td>NaN</td>\n",
       "      <td>NaN</td>\n",
       "      <td>Montreal, PQ / Chesterville, ON</td>\n",
       "    </tr>\n",
       "    <tr>\n",
       "      <th>3</th>\n",
       "      <td>1</td>\n",
       "      <td>0</td>\n",
       "      <td>Allison, Mr. Hudson Joshua Creighton</td>\n",
       "      <td>male</td>\n",
       "      <td>30.00</td>\n",
       "      <td>1</td>\n",
       "      <td>2</td>\n",
       "      <td>113781</td>\n",
       "      <td>151.5500</td>\n",
       "      <td>C22 C26</td>\n",
       "      <td>S</td>\n",
       "      <td>NaN</td>\n",
       "      <td>135.0</td>\n",
       "      <td>Montreal, PQ / Chesterville, ON</td>\n",
       "    </tr>\n",
       "    <tr>\n",
       "      <th>4</th>\n",
       "      <td>1</td>\n",
       "      <td>0</td>\n",
       "      <td>Allison, Mrs. Hudson J C (Bessie Waldo Daniels)</td>\n",
       "      <td>female</td>\n",
       "      <td>25.00</td>\n",
       "      <td>1</td>\n",
       "      <td>2</td>\n",
       "      <td>113781</td>\n",
       "      <td>151.5500</td>\n",
       "      <td>C22 C26</td>\n",
       "      <td>S</td>\n",
       "      <td>NaN</td>\n",
       "      <td>NaN</td>\n",
       "      <td>Montreal, PQ / Chesterville, ON</td>\n",
       "    </tr>\n",
       "    <tr>\n",
       "      <th>...</th>\n",
       "      <td>...</td>\n",
       "      <td>...</td>\n",
       "      <td>...</td>\n",
       "      <td>...</td>\n",
       "      <td>...</td>\n",
       "      <td>...</td>\n",
       "      <td>...</td>\n",
       "      <td>...</td>\n",
       "      <td>...</td>\n",
       "      <td>...</td>\n",
       "      <td>...</td>\n",
       "      <td>...</td>\n",
       "      <td>...</td>\n",
       "      <td>...</td>\n",
       "    </tr>\n",
       "    <tr>\n",
       "      <th>1304</th>\n",
       "      <td>3</td>\n",
       "      <td>0</td>\n",
       "      <td>Zabour, Miss. Hileni</td>\n",
       "      <td>female</td>\n",
       "      <td>14.50</td>\n",
       "      <td>1</td>\n",
       "      <td>0</td>\n",
       "      <td>2665</td>\n",
       "      <td>14.4542</td>\n",
       "      <td>NaN</td>\n",
       "      <td>C</td>\n",
       "      <td>NaN</td>\n",
       "      <td>328.0</td>\n",
       "      <td>NaN</td>\n",
       "    </tr>\n",
       "    <tr>\n",
       "      <th>1305</th>\n",
       "      <td>3</td>\n",
       "      <td>0</td>\n",
       "      <td>Zabour, Miss. Thamine</td>\n",
       "      <td>female</td>\n",
       "      <td>NaN</td>\n",
       "      <td>1</td>\n",
       "      <td>0</td>\n",
       "      <td>2665</td>\n",
       "      <td>14.4542</td>\n",
       "      <td>NaN</td>\n",
       "      <td>C</td>\n",
       "      <td>NaN</td>\n",
       "      <td>NaN</td>\n",
       "      <td>NaN</td>\n",
       "    </tr>\n",
       "    <tr>\n",
       "      <th>1306</th>\n",
       "      <td>3</td>\n",
       "      <td>0</td>\n",
       "      <td>Zakarian, Mr. Mapriededer</td>\n",
       "      <td>male</td>\n",
       "      <td>26.50</td>\n",
       "      <td>0</td>\n",
       "      <td>0</td>\n",
       "      <td>2656</td>\n",
       "      <td>7.2250</td>\n",
       "      <td>NaN</td>\n",
       "      <td>C</td>\n",
       "      <td>NaN</td>\n",
       "      <td>304.0</td>\n",
       "      <td>NaN</td>\n",
       "    </tr>\n",
       "    <tr>\n",
       "      <th>1307</th>\n",
       "      <td>3</td>\n",
       "      <td>0</td>\n",
       "      <td>Zakarian, Mr. Ortin</td>\n",
       "      <td>male</td>\n",
       "      <td>27.00</td>\n",
       "      <td>0</td>\n",
       "      <td>0</td>\n",
       "      <td>2670</td>\n",
       "      <td>7.2250</td>\n",
       "      <td>NaN</td>\n",
       "      <td>C</td>\n",
       "      <td>NaN</td>\n",
       "      <td>NaN</td>\n",
       "      <td>NaN</td>\n",
       "    </tr>\n",
       "    <tr>\n",
       "      <th>1308</th>\n",
       "      <td>3</td>\n",
       "      <td>0</td>\n",
       "      <td>Zimmerman, Mr. Leo</td>\n",
       "      <td>male</td>\n",
       "      <td>29.00</td>\n",
       "      <td>0</td>\n",
       "      <td>0</td>\n",
       "      <td>315082</td>\n",
       "      <td>7.8750</td>\n",
       "      <td>NaN</td>\n",
       "      <td>S</td>\n",
       "      <td>NaN</td>\n",
       "      <td>NaN</td>\n",
       "      <td>NaN</td>\n",
       "    </tr>\n",
       "  </tbody>\n",
       "</table>\n",
       "<p>1309 rows × 14 columns</p>\n",
       "</div>"
      ],
      "text/plain": [
       "      pclass  survived                                             name  \\\n",
       "0          1         1                    Allen, Miss. Elisabeth Walton   \n",
       "1          1         1                   Allison, Master. Hudson Trevor   \n",
       "2          1         0                     Allison, Miss. Helen Loraine   \n",
       "3          1         0             Allison, Mr. Hudson Joshua Creighton   \n",
       "4          1         0  Allison, Mrs. Hudson J C (Bessie Waldo Daniels)   \n",
       "...      ...       ...                                              ...   \n",
       "1304       3         0                             Zabour, Miss. Hileni   \n",
       "1305       3         0                            Zabour, Miss. Thamine   \n",
       "1306       3         0                        Zakarian, Mr. Mapriededer   \n",
       "1307       3         0                              Zakarian, Mr. Ortin   \n",
       "1308       3         0                               Zimmerman, Mr. Leo   \n",
       "\n",
       "         sex    age  sibsp  parch  ticket      fare    cabin embarked boat  \\\n",
       "0     female  29.00      0      0   24160  211.3375       B5        S    2   \n",
       "1       male   0.92      1      2  113781  151.5500  C22 C26        S   11   \n",
       "2     female   2.00      1      2  113781  151.5500  C22 C26        S  NaN   \n",
       "3       male  30.00      1      2  113781  151.5500  C22 C26        S  NaN   \n",
       "4     female  25.00      1      2  113781  151.5500  C22 C26        S  NaN   \n",
       "...      ...    ...    ...    ...     ...       ...      ...      ...  ...   \n",
       "1304  female  14.50      1      0    2665   14.4542      NaN        C  NaN   \n",
       "1305  female    NaN      1      0    2665   14.4542      NaN        C  NaN   \n",
       "1306    male  26.50      0      0    2656    7.2250      NaN        C  NaN   \n",
       "1307    male  27.00      0      0    2670    7.2250      NaN        C  NaN   \n",
       "1308    male  29.00      0      0  315082    7.8750      NaN        S  NaN   \n",
       "\n",
       "       body                        home.dest  \n",
       "0       NaN                     St Louis, MO  \n",
       "1       NaN  Montreal, PQ / Chesterville, ON  \n",
       "2       NaN  Montreal, PQ / Chesterville, ON  \n",
       "3     135.0  Montreal, PQ / Chesterville, ON  \n",
       "4       NaN  Montreal, PQ / Chesterville, ON  \n",
       "...     ...                              ...  \n",
       "1304  328.0                              NaN  \n",
       "1305    NaN                              NaN  \n",
       "1306  304.0                              NaN  \n",
       "1307    NaN                              NaN  \n",
       "1308    NaN                              NaN  \n",
       "\n",
       "[1309 rows x 14 columns]"
      ]
     },
     "execution_count": 16,
     "metadata": {},
     "output_type": "execute_result"
    }
   ],
   "source": [
    "# dataset_path = \"titanic3.csv\"\n",
    "# titanic_data = pd.read_csv(dataset_path)\n",
    "\n",
    "# dataset_url = \"https://raw.githubusercontent.com/datasciencedojo/datasets/master/titanic.csv\"\n",
    "dataset_url = \"https://raw.githubusercontent.com/jbryer/CompStats/master/Data/titanic3.csv\"\n",
    "titanic_data = pd.read_csv(dataset_url)\n",
    "titanic_data"
   ]
  },
  {
   "cell_type": "code",
   "execution_count": 17,
   "id": "ce56f3c2",
   "metadata": {},
   "outputs": [],
   "source": [
    "# titanic_data.columns = [col.lower() for col in titanic_data.columns]\n",
    "# titanic_data"
   ]
  },
  {
   "cell_type": "code",
   "execution_count": 18,
   "id": "833dcd70",
   "metadata": {},
   "outputs": [],
   "source": [
    "# titanic_data.columns"
   ]
  },
  {
   "cell_type": "code",
   "execution_count": 19,
   "id": "a24a6c6d",
   "metadata": {},
   "outputs": [
    {
     "data": {
      "application/vnd.microsoft.datawrangler.viewer.v0+json": {
       "columns": [
        {
         "name": "index",
         "rawType": "int64",
         "type": "integer"
        },
        {
         "name": "survived",
         "rawType": "int64",
         "type": "integer"
        },
        {
         "name": "age",
         "rawType": "float64",
         "type": "float"
        },
        {
         "name": "sibsp",
         "rawType": "int64",
         "type": "integer"
        },
        {
         "name": "parch",
         "rawType": "int64",
         "type": "integer"
        },
        {
         "name": "fare",
         "rawType": "float64",
         "type": "float"
        },
        {
         "name": "female",
         "rawType": "bool",
         "type": "boolean"
        },
        {
         "name": "male",
         "rawType": "bool",
         "type": "boolean"
        },
        {
         "name": "embark_C",
         "rawType": "bool",
         "type": "boolean"
        },
        {
         "name": "embark_Q",
         "rawType": "bool",
         "type": "boolean"
        },
        {
         "name": "embark_S",
         "rawType": "bool",
         "type": "boolean"
        },
        {
         "name": "class_1",
         "rawType": "bool",
         "type": "boolean"
        },
        {
         "name": "class_2",
         "rawType": "bool",
         "type": "boolean"
        },
        {
         "name": "class_3",
         "rawType": "bool",
         "type": "boolean"
        }
       ],
       "ref": "0862eba8-63f0-47e8-806d-2fc9fb645589",
       "rows": [
        [
         "0",
         "1",
         "29.0",
         "0",
         "0",
         "211.3375",
         "True",
         "False",
         "False",
         "False",
         "True",
         "True",
         "False",
         "False"
        ],
        [
         "1",
         "1",
         "0.92",
         "1",
         "2",
         "151.55",
         "False",
         "True",
         "False",
         "False",
         "True",
         "True",
         "False",
         "False"
        ],
        [
         "2",
         "0",
         "2.0",
         "1",
         "2",
         "151.55",
         "True",
         "False",
         "False",
         "False",
         "True",
         "True",
         "False",
         "False"
        ],
        [
         "3",
         "0",
         "30.0",
         "1",
         "2",
         "151.55",
         "False",
         "True",
         "False",
         "False",
         "True",
         "True",
         "False",
         "False"
        ],
        [
         "4",
         "0",
         "25.0",
         "1",
         "2",
         "151.55",
         "True",
         "False",
         "False",
         "False",
         "True",
         "True",
         "False",
         "False"
        ],
        [
         "5",
         "1",
         "48.0",
         "0",
         "0",
         "26.55",
         "False",
         "True",
         "False",
         "False",
         "True",
         "True",
         "False",
         "False"
        ],
        [
         "6",
         "1",
         "63.0",
         "1",
         "0",
         "77.9583",
         "True",
         "False",
         "False",
         "False",
         "True",
         "True",
         "False",
         "False"
        ],
        [
         "7",
         "0",
         "39.0",
         "0",
         "0",
         "0.0",
         "False",
         "True",
         "False",
         "False",
         "True",
         "True",
         "False",
         "False"
        ],
        [
         "8",
         "1",
         "53.0",
         "2",
         "0",
         "51.4792",
         "True",
         "False",
         "False",
         "False",
         "True",
         "True",
         "False",
         "False"
        ],
        [
         "9",
         "0",
         "71.0",
         "0",
         "0",
         "49.5042",
         "False",
         "True",
         "True",
         "False",
         "False",
         "True",
         "False",
         "False"
        ],
        [
         "10",
         "0",
         "47.0",
         "1",
         "0",
         "227.525",
         "False",
         "True",
         "True",
         "False",
         "False",
         "True",
         "False",
         "False"
        ],
        [
         "11",
         "1",
         "18.0",
         "1",
         "0",
         "227.525",
         "True",
         "False",
         "True",
         "False",
         "False",
         "True",
         "False",
         "False"
        ],
        [
         "12",
         "1",
         "24.0",
         "0",
         "0",
         "69.3",
         "True",
         "False",
         "True",
         "False",
         "False",
         "True",
         "False",
         "False"
        ],
        [
         "13",
         "1",
         "26.0",
         "0",
         "0",
         "78.85",
         "True",
         "False",
         "False",
         "False",
         "True",
         "True",
         "False",
         "False"
        ],
        [
         "14",
         "1",
         "80.0",
         "0",
         "0",
         "30.0",
         "False",
         "True",
         "False",
         "False",
         "True",
         "True",
         "False",
         "False"
        ],
        [
         "15",
         "0",
         "29.881137667304014",
         "0",
         "0",
         "25.925",
         "False",
         "True",
         "False",
         "False",
         "True",
         "True",
         "False",
         "False"
        ],
        [
         "16",
         "0",
         "24.0",
         "0",
         "1",
         "247.5208",
         "False",
         "True",
         "True",
         "False",
         "False",
         "True",
         "False",
         "False"
        ],
        [
         "17",
         "1",
         "50.0",
         "0",
         "1",
         "247.5208",
         "True",
         "False",
         "True",
         "False",
         "False",
         "True",
         "False",
         "False"
        ],
        [
         "18",
         "1",
         "32.0",
         "0",
         "0",
         "76.2917",
         "True",
         "False",
         "True",
         "False",
         "False",
         "True",
         "False",
         "False"
        ],
        [
         "19",
         "0",
         "36.0",
         "0",
         "0",
         "75.2417",
         "False",
         "True",
         "True",
         "False",
         "False",
         "True",
         "False",
         "False"
        ],
        [
         "20",
         "1",
         "37.0",
         "1",
         "1",
         "52.5542",
         "False",
         "True",
         "False",
         "False",
         "True",
         "True",
         "False",
         "False"
        ],
        [
         "21",
         "1",
         "47.0",
         "1",
         "1",
         "52.5542",
         "True",
         "False",
         "False",
         "False",
         "True",
         "True",
         "False",
         "False"
        ],
        [
         "22",
         "1",
         "26.0",
         "0",
         "0",
         "30.0",
         "False",
         "True",
         "True",
         "False",
         "False",
         "True",
         "False",
         "False"
        ],
        [
         "23",
         "1",
         "42.0",
         "0",
         "0",
         "227.525",
         "True",
         "False",
         "True",
         "False",
         "False",
         "True",
         "False",
         "False"
        ],
        [
         "24",
         "1",
         "29.0",
         "0",
         "0",
         "221.7792",
         "True",
         "False",
         "False",
         "False",
         "True",
         "True",
         "False",
         "False"
        ],
        [
         "25",
         "0",
         "25.0",
         "0",
         "0",
         "26.0",
         "False",
         "True",
         "True",
         "False",
         "False",
         "True",
         "False",
         "False"
        ],
        [
         "26",
         "1",
         "25.0",
         "1",
         "0",
         "91.0792",
         "False",
         "True",
         "True",
         "False",
         "False",
         "True",
         "False",
         "False"
        ],
        [
         "27",
         "1",
         "19.0",
         "1",
         "0",
         "91.0792",
         "True",
         "False",
         "True",
         "False",
         "False",
         "True",
         "False",
         "False"
        ],
        [
         "28",
         "1",
         "35.0",
         "0",
         "0",
         "135.6333",
         "True",
         "False",
         "False",
         "False",
         "True",
         "True",
         "False",
         "False"
        ],
        [
         "29",
         "1",
         "28.0",
         "0",
         "0",
         "26.55",
         "False",
         "True",
         "False",
         "False",
         "True",
         "True",
         "False",
         "False"
        ],
        [
         "30",
         "0",
         "45.0",
         "0",
         "0",
         "35.5",
         "False",
         "True",
         "False",
         "False",
         "True",
         "True",
         "False",
         "False"
        ],
        [
         "31",
         "1",
         "40.0",
         "0",
         "0",
         "31.0",
         "False",
         "True",
         "True",
         "False",
         "False",
         "True",
         "False",
         "False"
        ],
        [
         "32",
         "1",
         "30.0",
         "0",
         "0",
         "164.8667",
         "True",
         "False",
         "False",
         "False",
         "True",
         "True",
         "False",
         "False"
        ],
        [
         "33",
         "1",
         "58.0",
         "0",
         "0",
         "26.55",
         "True",
         "False",
         "False",
         "False",
         "True",
         "True",
         "False",
         "False"
        ],
        [
         "34",
         "0",
         "42.0",
         "0",
         "0",
         "26.55",
         "False",
         "True",
         "False",
         "False",
         "True",
         "True",
         "False",
         "False"
        ],
        [
         "35",
         "1",
         "45.0",
         "0",
         "0",
         "262.375",
         "True",
         "False",
         "True",
         "False",
         "False",
         "True",
         "False",
         "False"
        ],
        [
         "36",
         "1",
         "22.0",
         "0",
         "1",
         "55.0",
         "True",
         "False",
         "False",
         "False",
         "True",
         "True",
         "False",
         "False"
        ],
        [
         "37",
         "1",
         "29.881137667304014",
         "0",
         "0",
         "26.55",
         "False",
         "True",
         "False",
         "False",
         "True",
         "True",
         "False",
         "False"
        ],
        [
         "38",
         "0",
         "41.0",
         "0",
         "0",
         "30.5",
         "False",
         "True",
         "False",
         "False",
         "True",
         "True",
         "False",
         "False"
        ],
        [
         "39",
         "0",
         "48.0",
         "0",
         "0",
         "50.4958",
         "False",
         "True",
         "True",
         "False",
         "False",
         "True",
         "False",
         "False"
        ],
        [
         "40",
         "0",
         "29.881137667304014",
         "0",
         "0",
         "39.6",
         "False",
         "True",
         "True",
         "False",
         "False",
         "True",
         "False",
         "False"
        ],
        [
         "41",
         "1",
         "44.0",
         "0",
         "0",
         "27.7208",
         "True",
         "False",
         "True",
         "False",
         "False",
         "True",
         "False",
         "False"
        ],
        [
         "42",
         "1",
         "59.0",
         "2",
         "0",
         "51.4792",
         "True",
         "False",
         "False",
         "False",
         "True",
         "True",
         "False",
         "False"
        ],
        [
         "43",
         "1",
         "60.0",
         "0",
         "0",
         "76.2917",
         "True",
         "False",
         "True",
         "False",
         "False",
         "True",
         "False",
         "False"
        ],
        [
         "44",
         "1",
         "41.0",
         "0",
         "0",
         "134.5",
         "True",
         "False",
         "True",
         "False",
         "False",
         "True",
         "False",
         "False"
        ],
        [
         "45",
         "0",
         "45.0",
         "0",
         "0",
         "26.55",
         "False",
         "True",
         "False",
         "False",
         "True",
         "True",
         "False",
         "False"
        ],
        [
         "46",
         "0",
         "29.881137667304014",
         "0",
         "0",
         "31.0",
         "False",
         "True",
         "False",
         "False",
         "True",
         "True",
         "False",
         "False"
        ],
        [
         "47",
         "1",
         "42.0",
         "0",
         "0",
         "26.2875",
         "False",
         "True",
         "False",
         "False",
         "True",
         "True",
         "False",
         "False"
        ],
        [
         "48",
         "1",
         "53.0",
         "0",
         "0",
         "27.4458",
         "True",
         "False",
         "True",
         "False",
         "False",
         "True",
         "False",
         "False"
        ],
        [
         "49",
         "1",
         "36.0",
         "0",
         "1",
         "512.3292",
         "False",
         "True",
         "True",
         "False",
         "False",
         "True",
         "False",
         "False"
        ]
       ],
       "shape": {
        "columns": 13,
        "rows": 1309
       }
      },
      "text/html": [
       "<div>\n",
       "<style scoped>\n",
       "    .dataframe tbody tr th:only-of-type {\n",
       "        vertical-align: middle;\n",
       "    }\n",
       "\n",
       "    .dataframe tbody tr th {\n",
       "        vertical-align: top;\n",
       "    }\n",
       "\n",
       "    .dataframe thead th {\n",
       "        text-align: right;\n",
       "    }\n",
       "</style>\n",
       "<table border=\"1\" class=\"dataframe\">\n",
       "  <thead>\n",
       "    <tr style=\"text-align: right;\">\n",
       "      <th></th>\n",
       "      <th>survived</th>\n",
       "      <th>age</th>\n",
       "      <th>sibsp</th>\n",
       "      <th>parch</th>\n",
       "      <th>fare</th>\n",
       "      <th>female</th>\n",
       "      <th>male</th>\n",
       "      <th>embark_C</th>\n",
       "      <th>embark_Q</th>\n",
       "      <th>embark_S</th>\n",
       "      <th>class_1</th>\n",
       "      <th>class_2</th>\n",
       "      <th>class_3</th>\n",
       "    </tr>\n",
       "  </thead>\n",
       "  <tbody>\n",
       "    <tr>\n",
       "      <th>0</th>\n",
       "      <td>1</td>\n",
       "      <td>29.000000</td>\n",
       "      <td>0</td>\n",
       "      <td>0</td>\n",
       "      <td>211.3375</td>\n",
       "      <td>True</td>\n",
       "      <td>False</td>\n",
       "      <td>False</td>\n",
       "      <td>False</td>\n",
       "      <td>True</td>\n",
       "      <td>True</td>\n",
       "      <td>False</td>\n",
       "      <td>False</td>\n",
       "    </tr>\n",
       "    <tr>\n",
       "      <th>1</th>\n",
       "      <td>1</td>\n",
       "      <td>0.920000</td>\n",
       "      <td>1</td>\n",
       "      <td>2</td>\n",
       "      <td>151.5500</td>\n",
       "      <td>False</td>\n",
       "      <td>True</td>\n",
       "      <td>False</td>\n",
       "      <td>False</td>\n",
       "      <td>True</td>\n",
       "      <td>True</td>\n",
       "      <td>False</td>\n",
       "      <td>False</td>\n",
       "    </tr>\n",
       "    <tr>\n",
       "      <th>2</th>\n",
       "      <td>0</td>\n",
       "      <td>2.000000</td>\n",
       "      <td>1</td>\n",
       "      <td>2</td>\n",
       "      <td>151.5500</td>\n",
       "      <td>True</td>\n",
       "      <td>False</td>\n",
       "      <td>False</td>\n",
       "      <td>False</td>\n",
       "      <td>True</td>\n",
       "      <td>True</td>\n",
       "      <td>False</td>\n",
       "      <td>False</td>\n",
       "    </tr>\n",
       "    <tr>\n",
       "      <th>3</th>\n",
       "      <td>0</td>\n",
       "      <td>30.000000</td>\n",
       "      <td>1</td>\n",
       "      <td>2</td>\n",
       "      <td>151.5500</td>\n",
       "      <td>False</td>\n",
       "      <td>True</td>\n",
       "      <td>False</td>\n",
       "      <td>False</td>\n",
       "      <td>True</td>\n",
       "      <td>True</td>\n",
       "      <td>False</td>\n",
       "      <td>False</td>\n",
       "    </tr>\n",
       "    <tr>\n",
       "      <th>4</th>\n",
       "      <td>0</td>\n",
       "      <td>25.000000</td>\n",
       "      <td>1</td>\n",
       "      <td>2</td>\n",
       "      <td>151.5500</td>\n",
       "      <td>True</td>\n",
       "      <td>False</td>\n",
       "      <td>False</td>\n",
       "      <td>False</td>\n",
       "      <td>True</td>\n",
       "      <td>True</td>\n",
       "      <td>False</td>\n",
       "      <td>False</td>\n",
       "    </tr>\n",
       "    <tr>\n",
       "      <th>...</th>\n",
       "      <td>...</td>\n",
       "      <td>...</td>\n",
       "      <td>...</td>\n",
       "      <td>...</td>\n",
       "      <td>...</td>\n",
       "      <td>...</td>\n",
       "      <td>...</td>\n",
       "      <td>...</td>\n",
       "      <td>...</td>\n",
       "      <td>...</td>\n",
       "      <td>...</td>\n",
       "      <td>...</td>\n",
       "      <td>...</td>\n",
       "    </tr>\n",
       "    <tr>\n",
       "      <th>1304</th>\n",
       "      <td>0</td>\n",
       "      <td>14.500000</td>\n",
       "      <td>1</td>\n",
       "      <td>0</td>\n",
       "      <td>14.4542</td>\n",
       "      <td>True</td>\n",
       "      <td>False</td>\n",
       "      <td>True</td>\n",
       "      <td>False</td>\n",
       "      <td>False</td>\n",
       "      <td>False</td>\n",
       "      <td>False</td>\n",
       "      <td>True</td>\n",
       "    </tr>\n",
       "    <tr>\n",
       "      <th>1305</th>\n",
       "      <td>0</td>\n",
       "      <td>29.881138</td>\n",
       "      <td>1</td>\n",
       "      <td>0</td>\n",
       "      <td>14.4542</td>\n",
       "      <td>True</td>\n",
       "      <td>False</td>\n",
       "      <td>True</td>\n",
       "      <td>False</td>\n",
       "      <td>False</td>\n",
       "      <td>False</td>\n",
       "      <td>False</td>\n",
       "      <td>True</td>\n",
       "    </tr>\n",
       "    <tr>\n",
       "      <th>1306</th>\n",
       "      <td>0</td>\n",
       "      <td>26.500000</td>\n",
       "      <td>0</td>\n",
       "      <td>0</td>\n",
       "      <td>7.2250</td>\n",
       "      <td>False</td>\n",
       "      <td>True</td>\n",
       "      <td>True</td>\n",
       "      <td>False</td>\n",
       "      <td>False</td>\n",
       "      <td>False</td>\n",
       "      <td>False</td>\n",
       "      <td>True</td>\n",
       "    </tr>\n",
       "    <tr>\n",
       "      <th>1307</th>\n",
       "      <td>0</td>\n",
       "      <td>27.000000</td>\n",
       "      <td>0</td>\n",
       "      <td>0</td>\n",
       "      <td>7.2250</td>\n",
       "      <td>False</td>\n",
       "      <td>True</td>\n",
       "      <td>True</td>\n",
       "      <td>False</td>\n",
       "      <td>False</td>\n",
       "      <td>False</td>\n",
       "      <td>False</td>\n",
       "      <td>True</td>\n",
       "    </tr>\n",
       "    <tr>\n",
       "      <th>1308</th>\n",
       "      <td>0</td>\n",
       "      <td>29.000000</td>\n",
       "      <td>0</td>\n",
       "      <td>0</td>\n",
       "      <td>7.8750</td>\n",
       "      <td>False</td>\n",
       "      <td>True</td>\n",
       "      <td>False</td>\n",
       "      <td>False</td>\n",
       "      <td>True</td>\n",
       "      <td>False</td>\n",
       "      <td>False</td>\n",
       "      <td>True</td>\n",
       "    </tr>\n",
       "  </tbody>\n",
       "</table>\n",
       "<p>1309 rows × 13 columns</p>\n",
       "</div>"
      ],
      "text/plain": [
       "      survived        age  sibsp  parch      fare  female   male  embark_C  \\\n",
       "0            1  29.000000      0      0  211.3375    True  False     False   \n",
       "1            1   0.920000      1      2  151.5500   False   True     False   \n",
       "2            0   2.000000      1      2  151.5500    True  False     False   \n",
       "3            0  30.000000      1      2  151.5500   False   True     False   \n",
       "4            0  25.000000      1      2  151.5500    True  False     False   \n",
       "...        ...        ...    ...    ...       ...     ...    ...       ...   \n",
       "1304         0  14.500000      1      0   14.4542    True  False      True   \n",
       "1305         0  29.881138      1      0   14.4542    True  False      True   \n",
       "1306         0  26.500000      0      0    7.2250   False   True      True   \n",
       "1307         0  27.000000      0      0    7.2250   False   True      True   \n",
       "1308         0  29.000000      0      0    7.8750   False   True     False   \n",
       "\n",
       "      embark_Q  embark_S  class_1  class_2  class_3  \n",
       "0        False      True     True    False    False  \n",
       "1        False      True     True    False    False  \n",
       "2        False      True     True    False    False  \n",
       "3        False      True     True    False    False  \n",
       "4        False      True     True    False    False  \n",
       "...        ...       ...      ...      ...      ...  \n",
       "1304     False     False    False    False     True  \n",
       "1305     False     False    False    False     True  \n",
       "1306     False     False    False    False     True  \n",
       "1307     False     False    False    False     True  \n",
       "1308     False      True    False    False     True  \n",
       "\n",
       "[1309 rows x 13 columns]"
      ]
     },
     "execution_count": 19,
     "metadata": {},
     "output_type": "execute_result"
    }
   ],
   "source": [
    "titanic_data = pd.concat(\n",
    "    [\n",
    "        titanic_data,\n",
    "        pd.get_dummies(titanic_data[\"sex\"]),\n",
    "        pd.get_dummies(titanic_data[\"embarked\"], prefix=\"embark\"),\n",
    "        pd.get_dummies(titanic_data[\"pclass\"], prefix=\"class\"),\n",
    "    ],\n",
    "    axis=1,\n",
    ")\n",
    "titanic_data[\"age\"] = titanic_data[\"age\"].fillna(titanic_data[\"age\"].mean())\n",
    "titanic_data[\"fare\"] = titanic_data[\"fare\"].fillna(titanic_data[\"fare\"].mean())\n",
    "titanic_data = titanic_data.drop(\n",
    "    [\"name\", \"ticket\", \"cabin\", \"boat\", \"body\", \"home.dest\", \"sex\", \"embarked\", \"pclass\"], axis=1\n",
    ")\n",
    "# titanic_data = titanic_data.drop([\"name\", \"ticket\", \"cabin\", \"sex\", \"embarked\", \"pclass\"], axis=1)\n",
    "titanic_data"
   ]
  },
  {
   "cell_type": "code",
   "execution_count": 20,
   "id": "963c6c36",
   "metadata": {},
   "outputs": [],
   "source": [
    "# Set random seed for reproducibility.\n",
    "np.random.seed(131254)\n",
    "\n",
    "# Convert features and labels to numpy arrays.\n",
    "labels = titanic_data[\"survived\"].to_numpy()\n",
    "titanic_data = titanic_data.drop([\"survived\"], axis=1)\n",
    "feature_names = list(titanic_data.columns)\n",
    "data = titanic_data.to_numpy()\n",
    "\n",
    "# Separate training and test sets using\n",
    "train_indices = np.random.choice(len(labels), int(0.7 * len(labels)), replace=False)\n",
    "test_indices = list(set(range(len(labels))) - set(train_indices))\n",
    "train_features = np.array(data[train_indices], dtype=float)\n",
    "train_labels = labels[train_indices]\n",
    "test_features = np.array(data[test_indices], dtype=float)\n",
    "test_labels = labels[test_indices]"
   ]
  },
  {
   "cell_type": "code",
   "execution_count": 21,
   "id": "ec1c095f",
   "metadata": {},
   "outputs": [],
   "source": [
    "import torch\n",
    "import torch.nn as nn\n",
    "\n",
    "torch.manual_seed(1)  # Set seed for reproducibility.\n",
    "\n",
    "\n",
    "class TitanicSimpleNNModel(nn.Module):\n",
    "    def __init__(self):\n",
    "        super().__init__()\n",
    "        self.linear1 = nn.Linear(12, 12)\n",
    "        self.sigmoid1 = nn.Sigmoid()\n",
    "        self.linear2 = nn.Linear(12, 8)\n",
    "        self.sigmoid2 = nn.Sigmoid()\n",
    "        self.linear3 = nn.Linear(8, 2)\n",
    "        self.softmax = nn.Softmax(dim=1)\n",
    "\n",
    "    def forward(self, x):\n",
    "        lin1_out = self.linear1(x)\n",
    "        sigmoid_out1 = self.sigmoid1(lin1_out)\n",
    "        sigmoid_out2 = self.sigmoid2(self.linear2(sigmoid_out1))\n",
    "        return self.softmax(self.linear3(sigmoid_out2))"
   ]
  },
  {
   "cell_type": "code",
   "execution_count": 22,
   "id": "c933fec1",
   "metadata": {},
   "outputs": [
    {
     "name": "stdout",
     "output_type": "stream",
     "text": [
      "--2025-07-09 15:29:16--  https://github.com/pytorch/captum/raw/master/tutorials/models/titanic_model.pt\n",
      "Resolving github.com (github.com)... 20.201.28.151\n",
      "Connecting to github.com (github.com)|20.201.28.151|:443... connected.\n",
      "HTTP request sent, awaiting response... 302 Found\n",
      "Location: https://raw.githubusercontent.com/pytorch/captum/master/tutorials/models/titanic_model.pt [following]\n",
      "--2025-07-09 15:29:17--  https://raw.githubusercontent.com/pytorch/captum/master/tutorials/models/titanic_model.pt\n",
      "Resolving raw.githubusercontent.com (raw.githubusercontent.com)... 2606:50c0:8001::154, 2606:50c0:8002::154, 2606:50c0:8000::154, ...\n",
      "Connecting to raw.githubusercontent.com (raw.githubusercontent.com)|2606:50c0:8001::154|:443... connected.\n",
      "HTTP request sent, awaiting response... 200 OK\n",
      "Length: 2240 (2,2K) [application/octet-stream]\n",
      "Saving to: ‘captum-titanic_model.pt’\n",
      "\n",
      "captum-titanic_mode 100%[===================>]   2,19K  --.-KB/s    in 0s      \n",
      "\n",
      "2025-07-09 15:29:17 (45,8 MB/s) - ‘captum-titanic_model.pt’ saved [2240/2240]\n",
      "\n"
     ]
    }
   ],
   "source": [
    "!wget https://github.com/pytorch/captum/raw/master/tutorials/models/titanic_model.pt -O captum-titanic_model.pt"
   ]
  },
  {
   "cell_type": "code",
   "execution_count": 23,
   "id": "72105937",
   "metadata": {},
   "outputs": [
    {
     "name": "stdout",
     "output_type": "stream",
     "text": [
      "Model Loaded!\n"
     ]
    }
   ],
   "source": [
    "net = TitanicSimpleNNModel()\n",
    "USE_PRETRAINED_MODEL = True\n",
    "\n",
    "if USE_PRETRAINED_MODEL:\n",
    "    # net.load_state_dict(torch.load(\"models/titanic_model.pt\"))\n",
    "    net.load_state_dict(torch.load(\"captum-titanic_model.pt\"))\n",
    "    print(\"Model Loaded!\")\n",
    "    input_tensor = torch.from_numpy(train_features).type(torch.FloatTensor)\n",
    "    label_tensor = torch.from_numpy(train_labels)\n",
    "else:\n",
    "    criterion = nn.CrossEntropyLoss()\n",
    "    num_epochs = 200\n",
    "\n",
    "    optimizer = torch.optim.Adam(net.parameters(), lr=0.1)\n",
    "    input_tensor = torch.from_numpy(train_features).type(torch.FloatTensor)\n",
    "    label_tensor = torch.from_numpy(train_labels)\n",
    "    for epoch in range(num_epochs):\n",
    "        output = net(input_tensor)\n",
    "        loss = criterion(output, label_tensor)\n",
    "        optimizer.zero_grad()\n",
    "        loss.backward()\n",
    "        optimizer.step()\n",
    "        if epoch % 20 == 0:\n",
    "            print(\"Epoch {}/{} => Loss: {:.2f}\".format(epoch + 1, num_epochs, loss.item()))\n",
    "\n",
    "    torch.save(net.state_dict(), \"models/titanic_model.pt\")"
   ]
  },
  {
   "cell_type": "code",
   "execution_count": 24,
   "id": "ff8c7d86",
   "metadata": {},
   "outputs": [
    {
     "name": "stdout",
     "output_type": "stream",
     "text": [
      "Train Accuracy: 0.8493449781659389\n"
     ]
    }
   ],
   "source": [
    "out_probs = net(input_tensor).detach().numpy()\n",
    "out_classes = np.argmax(out_probs, axis=1)\n",
    "print(\"Train Accuracy:\", sum(out_classes == train_labels) / len(train_labels))"
   ]
  },
  {
   "cell_type": "code",
   "execution_count": 25,
   "id": "6325a13f",
   "metadata": {},
   "outputs": [
    {
     "name": "stdout",
     "output_type": "stream",
     "text": [
      "out_probs.shape: (393, 2)\n",
      "out_classes.shape: (393,)\n",
      "Test Accuracy: 0.816793893129771\n"
     ]
    }
   ],
   "source": [
    "test_input_tensor = torch.from_numpy(test_features).type(torch.FloatTensor)\n",
    "out_probs = net(test_input_tensor).detach().numpy()\n",
    "out_classes = np.argmax(out_probs, axis=1)\n",
    "print(f\"out_probs.shape: {out_probs.shape}\")\n",
    "print(f\"out_classes.shape: {out_classes.shape}\")\n",
    "print(\"Test Accuracy:\", sum(out_classes == test_labels) / len(test_labels))"
   ]
  },
  {
   "cell_type": "code",
   "execution_count": 26,
   "id": "4f4ee9b7",
   "metadata": {},
   "outputs": [
    {
     "data": {
      "text/plain": [
       "torch.Size([916, 12])"
      ]
     },
     "execution_count": 26,
     "metadata": {},
     "output_type": "execute_result"
    }
   ],
   "source": [
    "input_tensor.shape"
   ]
  },
  {
   "cell_type": "code",
   "execution_count": 27,
   "id": "c98fdba1",
   "metadata": {},
   "outputs": [
    {
     "data": {
      "text/plain": [
       "(916,)"
      ]
     },
     "execution_count": 27,
     "metadata": {},
     "output_type": "execute_result"
    }
   ],
   "source": [
    "train_labels.shape"
   ]
  },
  {
   "cell_type": "code",
   "execution_count": 28,
   "id": "656306e4",
   "metadata": {},
   "outputs": [
    {
     "data": {
      "text/plain": [
       "torch.Size([393, 12])"
      ]
     },
     "execution_count": 28,
     "metadata": {},
     "output_type": "execute_result"
    }
   ],
   "source": [
    "test_input_tensor.shape"
   ]
  },
  {
   "cell_type": "code",
   "execution_count": 29,
   "id": "149c2967",
   "metadata": {},
   "outputs": [
    {
     "data": {
      "text/plain": [
       "(393,)"
      ]
     },
     "execution_count": 29,
     "metadata": {},
     "output_type": "execute_result"
    }
   ],
   "source": [
    "test_labels.shape"
   ]
  },
  {
   "cell_type": "code",
   "execution_count": 30,
   "id": "82fa0c9b",
   "metadata": {},
   "outputs": [
    {
     "name": "stdout",
     "output_type": "stream",
     "text": [
      "Train Labels Proportions: [0.60480349 0.39519651]\n",
      "Test Labels Proportions: [0.64885496 0.35114504]\n"
     ]
    }
   ],
   "source": [
    "# calcuate proportions between 0 and 1 in the test_labels and train_labels\n",
    "train_labels_proportions = np.bincount(train_labels) / len(train_labels)\n",
    "test_labels_proportions = np.bincount(test_labels) / len(test_labels)\n",
    "print(\"Train Labels Proportions:\", train_labels_proportions)\n",
    "print(\"Test Labels Proportions:\", test_labels_proportions)"
   ]
  },
  {
   "cell_type": "code",
   "execution_count": 31,
   "id": "5e02c1bf",
   "metadata": {},
   "outputs": [],
   "source": [
    "ig = IntegratedGradients(net)"
   ]
  },
  {
   "cell_type": "code",
   "execution_count": 32,
   "id": "33d9e5c6",
   "metadata": {},
   "outputs": [],
   "source": [
    "test_input_tensor.requires_grad_()\n",
    "attr, delta = ig.attribute(test_input_tensor, target=1, return_convergence_delta=True)\n",
    "attr = attr.detach().numpy()"
   ]
  },
  {
   "cell_type": "code",
   "execution_count": 33,
   "id": "60fa2ee2",
   "metadata": {},
   "outputs": [],
   "source": [
    "# test_input_tensor.requires_grad_()\n",
    "# attr, delta = ig.attribute(test_input_tensor, baselines=1, target=1, return_convergence_delta=True)\n",
    "# attr = attr.detach().numpy()"
   ]
  },
  {
   "cell_type": "code",
   "execution_count": 34,
   "id": "534c1224",
   "metadata": {},
   "outputs": [
    {
     "data": {
      "text/plain": [
       "(393, 12)"
      ]
     },
     "execution_count": 34,
     "metadata": {},
     "output_type": "execute_result"
    }
   ],
   "source": [
    "attr.shape"
   ]
  },
  {
   "cell_type": "code",
   "execution_count": 35,
   "id": "c4f4f712",
   "metadata": {},
   "outputs": [
    {
     "data": {
      "text/plain": [
       "(12,)"
      ]
     },
     "execution_count": 35,
     "metadata": {},
     "output_type": "execute_result"
    }
   ],
   "source": [
    "np.mean(attr, axis=0).shape"
   ]
  },
  {
   "cell_type": "code",
   "execution_count": 36,
   "id": "1d95d19d",
   "metadata": {},
   "outputs": [
    {
     "name": "stdout",
     "output_type": "stream",
     "text": [
      "Average Feature Importances\n",
      "age :  -0.454\n",
      "sibsp :  -0.119\n",
      "parch :  -0.056\n",
      "fare :  0.175\n",
      "female :  0.154\n",
      "male :  -0.359\n",
      "embark_C :  0.086\n",
      "embark_Q :  -0.001\n",
      "embark_S :  -0.082\n",
      "class_1 :  0.062\n",
      "class_2 :  0.021\n",
      "class_3 :  -0.159\n"
     ]
    },
    {
     "data": {
      "image/png": "[encoded data removed]",
      "text/plain": [
       "<Figure size 1200x600 with 1 Axes>"
      ]
     },
     "metadata": {},
     "output_type": "display_data"
    }
   ],
   "source": [
    "# Helper method to print importances and visualize distribution\n",
    "def visualize_importances(\n",
    "    feature_names, importances, title=\"Average Feature Importances\", plot=True, axis_title=\"Features\"\n",
    "):\n",
    "    print(title)\n",
    "    for i in range(len(feature_names)):\n",
    "        print(feature_names[i], \": \", \"%.3f\" % (importances[i]))\n",
    "    x_pos = np.arange(len(feature_names))\n",
    "    if plot:\n",
    "        plt.figure(figsize=(12, 6))\n",
    "        plt.bar(x_pos, importances, align=\"center\")\n",
    "        plt.xticks(x_pos, feature_names, wrap=True)\n",
    "        plt.xlabel(axis_title)\n",
    "        plt.title(title)\n",
    "\n",
    "\n",
    "visualize_importances(feature_names, np.mean(attr, axis=0))"
   ]
  },
  {
   "cell_type": "markdown",
   "id": "b0cf8778",
   "metadata": {},
   "source": [
    "From the feature attribution information, we obtain some interesting insights regarding the importance of various features. We see that the strongest features appear to be age and being male, which are negatively correlated with survival. Embarking at Queenstown and the number of parents / children appear to be less important features generally.\n",
    "\n",
    "An important thing to note is that the average attributions over the test set don't necessarilly capture all the information regarding feature importances. We should also look at the distribution of attributions for each feature. It is possible that features have very different attributions for different examples in the dataset."
   ]
  },
  {
   "cell_type": "code",
   "execution_count": 37,
   "id": "ce773b61",
   "metadata": {},
   "outputs": [
    {
     "data": {
      "image/png": "[encoded data removed]",
      "text/plain": [
       "<Figure size 640x480 with 1 Axes>"
      ]
     },
     "metadata": {},
     "output_type": "display_data"
    }
   ],
   "source": [
    "plt.hist(attr[:, 1], 100)\n",
    "plt.title(\"Distribution of Sibsp Attribution Values\");"
   ]
  },
  {
   "cell_type": "code",
   "execution_count": 38,
   "id": "651a19cc",
   "metadata": {},
   "outputs": [
    {
     "data": {
      "image/png": "[encoded data removed]",
      "text/plain": [
       "<Figure size 640x480 with 1 Axes>"
      ]
     },
     "metadata": {},
     "output_type": "display_data"
    }
   ],
   "source": [
    "bin_means, bin_edges, _ = stats.binned_statistic(test_features[:, 1], attr[:, 1], statistic=\"mean\", bins=6)\n",
    "bin_count, _, _ = stats.binned_statistic(test_features[:, 1], attr[:, 1], statistic=\"count\", bins=6)\n",
    "\n",
    "bin_width = bin_edges[1] - bin_edges[0]\n",
    "bin_centers = bin_edges[1:] - bin_width / 2\n",
    "plt.scatter(bin_centers, bin_means, s=bin_count)\n",
    "plt.xlabel(\"Average Sibsp Feature Value\")\n",
    "plt.ylabel(\"Average Attribution\");"
   ]
  },
  {
   "cell_type": "code",
   "execution_count": 39,
   "id": "66e4cd92",
   "metadata": {},
   "outputs": [],
   "source": [
    "cond = LayerConductance(net, net.sigmoid1)"
   ]
  },
  {
   "cell_type": "code",
   "execution_count": 40,
   "id": "e0063776",
   "metadata": {},
   "outputs": [],
   "source": [
    "cond_vals = cond.attribute(test_input_tensor, target=1)\n",
    "cond_vals = cond_vals.detach().numpy()"
   ]
  },
  {
   "cell_type": "code",
   "execution_count": 41,
   "id": "f2084079",
   "metadata": {},
   "outputs": [
    {
     "name": "stdout",
     "output_type": "stream",
     "text": [
      "Average Neuron Importances\n",
      "0 :  -0.123\n",
      "1 :  -0.040\n",
      "2 :  0.030\n",
      "3 :  0.012\n",
      "4 :  -0.022\n",
      "5 :  -0.137\n",
      "6 :  0.009\n",
      "7 :  0.001\n",
      "8 :  -0.136\n",
      "9 :  -0.000\n",
      "10 :  -0.306\n",
      "11 :  0.016\n"
     ]
    },
    {
     "data": {
      "image/png": "[encoded data removed]",
      "text/plain": [
       "<Figure size 1200x600 with 1 Axes>"
      ]
     },
     "metadata": {},
     "output_type": "display_data"
    }
   ],
   "source": [
    "visualize_importances(range(12), np.mean(cond_vals, axis=0), title=\"Average Neuron Importances\", axis_title=\"Neurons\")\n"
   ]
  },
  {
   "cell_type": "markdown",
   "id": "eb5c4953",
   "metadata": {},
   "source": [
    "The tutorial continues approaching neuron activation explications. But I will keep up to the feature attribution for now. Also, I tried to use this method for our regression approach, like this:\n",
    "\n",
    "```python\n",
    "attr, delta = ig.attribute(test_input_tensor, target=50, return_convergence_delta=True)\n",
    "attr = attr.detach().numpy()\n",
    "```\n",
    "\n",
    "But it gives the error `IndexError: index 50 is out of bounds for dimension 1 with size 1` since we are not in a classification problem, but in a regression one. The models outputs rainfall values per sample x timestep x lat x long x channel (not necessarily in this order, for the Torch tensors). So, I started investigating this other tutorial\n",
    "\n",
    "https://captum.ai/tutorials/House_Prices_Regression_Interpret\n",
    "\n",
    "EDIT, after running this tutorial I just found this:\n",
    "```\n",
    "For outputs with > 2 dimensions, targets can be either:\n",
    "\n",
    "                        - A single tuple, which contains #output_dims - 1\n",
    "                          elements. This target index is applied to all examples.\n",
    "\n",
    "                        - A list of tuples with length equal to the number of\n",
    "                          examples in inputs (dim 0), and each tuple containing\n",
    "                          #output_dims - 1 elements. Each tuple is applied as the\n",
    "                          target for the corresponding example.\n",
    "```"
   ]
  },
  {
   "cell_type": "code",
   "execution_count": 42,
   "id": "d706dad1",
   "metadata": {},
   "outputs": [],
   "source": [
    "import numpy as np\n",
    "\n",
    "from os import path\n",
    "\n",
    "\n",
    "import matplotlib.pyplot as plt\n",
    "\n",
    "# scikit-learn related imports\n",
    "import sklearn\n",
    "from sklearn.datasets import fetch_california_housing\n",
    "from sklearn.datasets import fetch_openml\n",
    "from sklearn.model_selection import train_test_split\n",
    "from sklearn.metrics import mean_squared_error\n",
    "\n",
    "# pytorch relates imports\n",
    "import torch\n",
    "import torch.nn as nn\n",
    "import torch.optim as optim\n",
    "\n",
    "# imports from captum library\n",
    "from captum.attr import LayerConductance, LayerActivation, LayerIntegratedGradients\n",
    "from captum.attr import IntegratedGradients, DeepLift, GradientShap, NoiseTunnel, FeatureAblation"
   ]
  },
  {
   "cell_type": "code",
   "execution_count": 43,
   "id": "37eed315",
   "metadata": {},
   "outputs": [],
   "source": [
    "california = fetch_california_housing()\n",
    "\n",
    "\n",
    "# https://scikit-learn.org/stable/datasets/real_world.html#california-housing-dataset\n",
    "feature_names = california.feature_names\n",
    "\"\"\"\n",
    "Features:\n",
    "MedInc median income in block group\n",
    "HouseAge median house age in block group\n",
    "AveRooms average number of rooms per household\n",
    "AveBedrms average number of bedrooms per household\n",
    "Population block group population\n",
    "AveOccup average number of household members\n",
    "Latitude block group latitude\n",
    "Longitude block group longitude\n",
    " \n",
    "The target variable is the median house value for California districts, \n",
    "expressed in hundreds of thousands of dollars ($100,000).\n",
    "\n",
    "This dataset was derived from the 1990 U.S. census, using one row per census block group. \n",
    "A block group is the smallest geographical unit for which the U.S. Census Bureau publishes sample data \n",
    "(a block group typically has a population of 600 to 3,000 people).\n",
    "\"\"\"\n",
    "\n",
    "# take first n examples for speed up\n",
    "n = 600\n",
    "X = california.data[:n]\n",
    "y = california.target[:n]"
   ]
  },
  {
   "cell_type": "code",
   "execution_count": 44,
   "id": "70f0b934",
   "metadata": {},
   "outputs": [],
   "source": [
    "torch.manual_seed(1234)\n",
    "np.random.seed(1234)"
   ]
  },
  {
   "cell_type": "code",
   "execution_count": 45,
   "id": "f14e80ba",
   "metadata": {},
   "outputs": [],
   "source": [
    "X_train, X_test, y_train, y_test = train_test_split(X, y, test_size=0.3, random_state=0)\n"
   ]
  },
  {
   "cell_type": "code",
   "execution_count": 46,
   "id": "35ede636",
   "metadata": {},
   "outputs": [
    {
     "data": {
      "image/png": "[encoded data removed]",
      "text/plain": [
       "<Figure size 3000x2000 with 9 Axes>"
      ]
     },
     "metadata": {},
     "output_type": "display_data"
    }
   ],
   "source": [
    "fig, axs = plt.subplots(nrows=3, ncols=3, figsize=(30, 20))\n",
    "for i, (ax, col) in enumerate(zip(axs.flat, feature_names)):\n",
    "    x = X[:, i]\n",
    "    pf = np.polyfit(x, y, 1)\n",
    "    p = np.poly1d(pf)\n",
    "\n",
    "    ax.plot(x, y, \"o\")\n",
    "    ax.plot(x, p(x), \"r--\")\n",
    "\n",
    "    ax.set_title(col + \" vs Median House Value\")\n",
    "    ax.set_xlabel(col)\n",
    "    ax.set_ylabel(\"Median House Value\")"
   ]
  },
  {
   "cell_type": "code",
   "execution_count": 47,
   "id": "05099d4f",
   "metadata": {},
   "outputs": [
    {
     "name": "stdout",
     "output_type": "stream",
     "text": [
      "X_train shape: (420, 8)\n",
      "X_test shape: (180, 8)\n",
      "y_train shape: (420,)\n",
      "y_test shape: (180,)\n",
      "X_train shape: torch.Size([420, 8])\n",
      "y_train shape: torch.Size([420, 1])\n",
      "X_test shape: torch.Size([180, 8])\n",
      "y_test shape: torch.Size([180, 1])\n"
     ]
    }
   ],
   "source": [
    "# X_train, X_test, y_train, y_test printing shapes of:\n",
    "print(\"X_train shape:\", X_train.shape)\n",
    "print(\"X_test shape:\", X_test.shape)\n",
    "print(\"y_train shape:\", y_train.shape)\n",
    "print(\"y_test shape:\", y_test.shape)\n",
    "\n",
    "X_train = torch.tensor(X_train).float()\n",
    "y_train = torch.tensor(y_train).view(-1, 1).float()\n",
    "\n",
    "X_test = torch.tensor(X_test).float()\n",
    "y_test = torch.tensor(y_test).view(-1, 1).float()\n",
    "\n",
    "datasets = torch.utils.data.TensorDataset(X_train, y_train)\n",
    "train_iter = torch.utils.data.DataLoader(datasets, batch_size=10, shuffle=True)\n",
    "\n",
    "# printin shapes of:\n",
    "\n",
    "print(\"X_train shape:\", X_train.shape)\n",
    "print(\"y_train shape:\", y_train.shape)\n",
    "print(\"X_test shape:\", X_test.shape)\n",
    "print(\"y_test shape:\", y_test.shape)"
   ]
  },
  {
   "cell_type": "code",
   "execution_count": 48,
   "id": "00ca6513",
   "metadata": {},
   "outputs": [],
   "source": [
    "batch_size = 50\n",
    "num_epochs = 200\n",
    "learning_rate = 0.0001\n",
    "size_hidden1 = 100\n",
    "size_hidden2 = 50\n",
    "size_hidden3 = 10\n",
    "size_hidden4 = 1"
   ]
  },
  {
   "cell_type": "code",
   "execution_count": 49,
   "id": "f1785645",
   "metadata": {},
   "outputs": [],
   "source": [
    "class CaliforniaModel(nn.Module):\n",
    "    def __init__(self):\n",
    "        super().__init__()\n",
    "        self.lin1 = nn.Linear(8, size_hidden1)\n",
    "        self.relu1 = nn.ReLU()\n",
    "        self.lin2 = nn.Linear(size_hidden1, size_hidden2)\n",
    "        self.relu2 = nn.ReLU()\n",
    "        self.lin3 = nn.Linear(size_hidden2, size_hidden3)\n",
    "        self.relu3 = nn.ReLU()\n",
    "        self.lin4 = nn.Linear(size_hidden3, size_hidden4)\n",
    "\n",
    "    def forward(self, input):\n",
    "        return self.lin4(self.relu3(self.lin3(self.relu2(self.lin2(self.relu1(self.lin1(input)))))))"
   ]
  },
  {
   "cell_type": "code",
   "execution_count": 50,
   "id": "21a50d6c",
   "metadata": {},
   "outputs": [
    {
     "data": {
      "text/plain": [
       "CaliforniaModel(\n",
       "  (lin1): Linear(in_features=8, out_features=100, bias=True)\n",
       "  (relu1): ReLU()\n",
       "  (lin2): Linear(in_features=100, out_features=50, bias=True)\n",
       "  (relu2): ReLU()\n",
       "  (lin3): Linear(in_features=50, out_features=10, bias=True)\n",
       "  (relu3): ReLU()\n",
       "  (lin4): Linear(in_features=10, out_features=1, bias=True)\n",
       ")"
      ]
     },
     "execution_count": 50,
     "metadata": {},
     "output_type": "execute_result"
    }
   ],
   "source": [
    "model = CaliforniaModel()\n",
    "model.train()\n"
   ]
  },
  {
   "cell_type": "code",
   "execution_count": 51,
   "id": "7ce3b650",
   "metadata": {},
   "outputs": [],
   "source": [
    "criterion = nn.MSELoss(reduction=\"sum\")"
   ]
  },
  {
   "cell_type": "code",
   "execution_count": 52,
   "id": "1e26d0d9",
   "metadata": {},
   "outputs": [],
   "source": [
    "def train(model_inp, num_epochs=num_epochs):\n",
    "    optimizer = torch.optim.RMSprop(model_inp.parameters(), lr=learning_rate)\n",
    "    for epoch in range(num_epochs):  # loop over the dataset multiple times\n",
    "        running_loss = 0.0\n",
    "        for inputs, labels in train_iter:\n",
    "            # forward pass\n",
    "            outputs = model_inp(inputs)\n",
    "            # defining loss\n",
    "            loss = criterion(outputs, labels)\n",
    "            # zero the parameter gradients\n",
    "            optimizer.zero_grad()\n",
    "            # computing gradients\n",
    "            loss.backward()\n",
    "            # accumulating running loss\n",
    "            running_loss += loss.item()\n",
    "            # updated weights based on computed gradients\n",
    "            optimizer.step()\n",
    "        if epoch % 20 == 0:\n",
    "            print(\n",
    "                \"Epoch [%d]/[%d] running accumulative loss across all batches: %.3f\"\n",
    "                % (epoch + 1, num_epochs, running_loss)\n",
    "            )\n",
    "        running_loss = 0.0"
   ]
  },
  {
   "cell_type": "code",
   "execution_count": 53,
   "id": "a9faf38a",
   "metadata": {},
   "outputs": [],
   "source": [
    "def train_load_save_model(model_obj, model_path):\n",
    "    if path.isfile(model_path):\n",
    "        # load model\n",
    "        print(\"Loading pre-trained model from: {}\".format(model_path))\n",
    "        model_obj.load_state_dict(torch.load(model_path))\n",
    "    else:\n",
    "        # train model\n",
    "        train(model_obj)\n",
    "        print(\"Finished training the model. Saving the model to the path: {}\".format(model_path))\n",
    "        torch.save(model_obj.state_dict(), model_path)"
   ]
  },
  {
   "cell_type": "code",
   "execution_count": 54,
   "id": "bfb8b088",
   "metadata": {},
   "outputs": [
    {
     "name": "stdout",
     "output_type": "stream",
     "text": [
      "--2025-07-09 15:29:23--  https://github.com/pytorch/captum/raw/master/tutorials/models/california_model.pt\n",
      "Resolving github.com (github.com)... 20.201.28.151\n",
      "Connecting to github.com (github.com)|20.201.28.151|:443... connected.\n",
      "HTTP request sent, awaiting response... 302 Found\n",
      "Location: https://raw.githubusercontent.com/pytorch/captum/master/tutorials/models/california_model.pt [following]\n",
      "--2025-07-09 15:29:23--  https://raw.githubusercontent.com/pytorch/captum/master/tutorials/models/california_model.pt\n",
      "Resolving raw.githubusercontent.com (raw.githubusercontent.com)... 2606:50c0:8003::154, 2606:50c0:8000::154, 2606:50c0:8002::154, ...\n",
      "Connecting to raw.githubusercontent.com (raw.githubusercontent.com)|2606:50c0:8003::154|:443... connected.\n",
      "HTTP request sent, awaiting response... 200 OK\n",
      "Length: 28431 (28K) [application/octet-stream]\n",
      "Saving to: ‘captum-california_model.pt’\n",
      "\n",
      "captum-california_m 100%[===================>]  27,76K  --.-KB/s    in 0,003s  \n",
      "\n",
      "2025-07-09 15:29:24 (10,5 MB/s) - ‘captum-california_model.pt’ saved [28431/28431]\n",
      "\n"
     ]
    }
   ],
   "source": [
    "!wget https://github.com/pytorch/captum/raw/master/tutorials/models/california_model.pt -O captum-california_model.pt"
   ]
  },
  {
   "cell_type": "code",
   "execution_count": 55,
   "id": "d323a29d",
   "metadata": {},
   "outputs": [
    {
     "name": "stdout",
     "output_type": "stream",
     "text": [
      "Loading pre-trained model from: captum-california_model.pt\n"
     ]
    }
   ],
   "source": [
    "SAVED_MODEL_PATH = \"captum-california_model.pt\"\n",
    "train_load_save_model(model, SAVED_MODEL_PATH)"
   ]
  },
  {
   "cell_type": "code",
   "execution_count": 56,
   "id": "b366bec7",
   "metadata": {},
   "outputs": [
    {
     "name": "stdout",
     "output_type": "stream",
     "text": [
      "model err:  0.6579745204131687\n"
     ]
    }
   ],
   "source": [
    "model.eval()\n",
    "outputs = model(X_test)\n",
    "err = np.sqrt(mean_squared_error(outputs.detach().numpy(), y_test.detach().numpy()))\n",
    "\n",
    "print(\"model err: \", err)"
   ]
  },
  {
   "cell_type": "code",
   "execution_count": 57,
   "id": "b1716127",
   "metadata": {},
   "outputs": [],
   "source": [
    "# FROM HERE I didn't continue the tutorial. I adapted the first tutorial actually, see eae_no_latitude_e_longitude_specific_only_t0_rmse_log_1_shape_clean-camera-ready-doublecheck-CAPTUM.ipynb\n",
    "\n",
    "# ig = IntegratedGradients(model)\n",
    "# ig_nt = NoiseTunnel(ig)\n",
    "# dl = DeepLift(model)\n",
    "# gs = GradientShap(model)\n",
    "# fa = FeatureAblation(model)\n",
    "\n",
    "# ig_attr_test = ig.attribute(X_test, n_steps=50)\n",
    "# ig_nt_attr_test = ig_nt.attribute(X_test)\n",
    "# dl_attr_test = dl.attribute(X_test)\n",
    "# gs_attr_test = gs.attribute(X_test, X_train)\n",
    "# fa_attr_test = fa.attribute(X_test)\n",
    "\n"
   ]
  }
 ],
 "metadata": {
  "kernelspec": {
   "display_name": ".venv",
   "language": "python",
   "name": "python3"
  },
  "language_info": {
   "codemirror_mode": {
    "name": "ipython",
    "version": 3
   },
   "file_extension": ".py",
   "mimetype": "text/x-python",
   "name": "python",
   "nbconvert_exporter": "python",
   "pygments_lexer": "ipython3",
   "version": "3.10.12"
  }
 },
 "nbformat": 4,
 "nbformat_minor": 5
}
